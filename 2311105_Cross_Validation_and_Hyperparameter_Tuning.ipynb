{
  "nbformat": 4,
  "nbformat_minor": 0,
  "metadata": {
    "colab": {
      "provenance": []
    },
    "kernelspec": {
      "name": "python3",
      "display_name": "Python 3"
    },
    "language_info": {
      "name": "python"
    }
  },
  "cells": [
    {
      "cell_type": "markdown",
      "source": [
        "# Cross Validation"
      ],
      "metadata": {
        "id": "akffUxjzXNbj"
      }
    },
    {
      "cell_type": "code",
      "execution_count": 1,
      "metadata": {
        "colab": {
          "base_uri": "https://localhost:8080/"
        },
        "id": "a26O6C-WWy5e",
        "outputId": "df6de14d-c243-4a44-eda0-6e2783dd47bc"
      },
      "outputs": [
        {
          "output_type": "stream",
          "name": "stdout",
          "text": [
            "5-Fold Cross-Validation:\n",
            "Accuracy scores for 5-fold CV: [0.96666667 0.93333333 1.         1.         0.93333333]\n",
            "Mean accuracy: 0.9666666666666666\n",
            "\n",
            "10-Fold Cross-Validation:\n",
            "Accuracy scores for 10-fold CV: [0.93333333 1.         0.86666667 1.         1.         0.93333333\n",
            " 1.         1.         0.86666667 1.        ]\n",
            "Mean accuracy: 0.96\n"
          ]
        }
      ],
      "source": [
        "# Import necessary libraries\n",
        "import numpy as np\n",
        "from sklearn.model_selection import cross_val_score, KFold\n",
        "from sklearn.linear_model import LogisticRegression\n",
        "from sklearn.datasets import load_iris\n",
        "from sklearn.model_selection import StratifiedKFold\n",
        "\n",
        "# Load the Iris dataset\n",
        "data = load_iris()\n",
        "X = data.data  # Features\n",
        "y = data.target  # Labels\n",
        "\n",
        "# Initialize Logistic Regression model\n",
        "model = LogisticRegression(max_iter=500)\n",
        "\n",
        "# 5-Fold Cross-Validation\n",
        "print(\"5-Fold Cross-Validation:\")\n",
        "cv_5fold = StratifiedKFold(n_splits=5, shuffle=True)\n",
        "scores_5fold = cross_val_score(model, X, y, cv=cv_5fold, scoring='accuracy')\n",
        "print(f\"Accuracy scores for 5-fold CV: {scores_5fold}\")\n",
        "print(f\"Mean accuracy: {np.mean(scores_5fold)}\\n\")\n",
        "\n",
        "# 10-Fold Cross-Validation\n",
        "print(\"10-Fold Cross-Validation:\")\n",
        "cv_10fold = StratifiedKFold(n_splits=10, shuffle=True)\n",
        "scores_10fold = cross_val_score(model, X, y, cv=cv_10fold, scoring='accuracy')\n",
        "print(f\"Accuracy scores for 10-fold CV: {scores_10fold}\")\n",
        "print(f\"Mean accuracy: {np.mean(scores_10fold)}\")\n"
      ]
    },
    {
      "cell_type": "markdown",
      "source": [
        "#Hyperparameter Tuning"
      ],
      "metadata": {
        "id": "EqGRe8ZiX1Rs"
      }
    },
    {
      "cell_type": "code",
      "source": [
        "from sklearn.datasets import load_iris\n",
        "from sklearn.tree import DecisionTreeClassifier\n",
        "from sklearn.model_selection import GridSearchCV\n",
        "\n",
        "# Load the dataset\n",
        "data = load_iris()\n",
        "X = data.data\n",
        "y = data.target\n",
        "\n",
        "# Create the decision tree model\n",
        "model = DecisionTreeClassifier()\n",
        "\n",
        "# Define the hyperparameters and their possible values\n",
        "param_grid = {\n",
        "    'max_depth': [3, 5, 7, None],  # Different depths of the tree\n",
        "    'min_samples_split': [2, 5, 10]  # Minimum samples to split\n",
        "}\n",
        "\n",
        "# Set up GridSearchCV to search for the best combination of parameters\n",
        "grid_search = GridSearchCV(estimator=model, param_grid=param_grid, cv=5)  # 5-fold cross-validation\n",
        "\n",
        "# Fit the model with the best hyperparameters\n",
        "grid_search.fit(X, y)\n",
        "\n",
        "# Print the best parameters found\n",
        "print(\"Best Hyperparameters:\", grid_search.best_params_)"
      ],
      "metadata": {
        "colab": {
          "base_uri": "https://localhost:8080/"
        },
        "id": "iJR6pzDRXVM2",
        "outputId": "dd6fbd52-ed17-41c1-ee8d-9256e6ee3984"
      },
      "execution_count": 2,
      "outputs": [
        {
          "output_type": "stream",
          "name": "stdout",
          "text": [
            "Best Hyperparameters: {'max_depth': 3, 'min_samples_split': 10}\n"
          ]
        }
      ]
    }
  ]
}